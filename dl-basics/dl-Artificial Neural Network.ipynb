{
 "cells": [
  {
   "cell_type": "markdown",
   "id": "97380e7a",
   "metadata": {},
   "source": [
    "### Classification challenge: help bank dig out the reason of unusual high churn rate"
   ]
  },
  {
   "cell_type": "code",
   "execution_count": 1,
   "id": "42dc454c",
   "metadata": {
    "ExecuteTime": {
     "end_time": "2021-04-09T03:30:04.172539Z",
     "start_time": "2021-04-09T03:30:00.089095Z"
    }
   },
   "outputs": [],
   "source": [
    "# importing libraries\n",
    "import tensorflow as tf\n",
    "import numpy as np\n",
    "import pandas as pd"
   ]
  },
  {
   "cell_type": "code",
   "execution_count": 2,
   "id": "73a921bf",
   "metadata": {
    "ExecuteTime": {
     "end_time": "2021-04-09T03:30:06.317713Z",
     "start_time": "2021-04-09T03:30:06.308775Z"
    }
   },
   "outputs": [
    {
     "data": {
      "text/plain": [
       "'2.4.1'"
      ]
     },
     "execution_count": 2,
     "metadata": {},
     "output_type": "execute_result"
    }
   ],
   "source": [
    "tf.__version__"
   ]
  },
  {
   "cell_type": "markdown",
   "id": "8739f6c8",
   "metadata": {
    "ExecuteTime": {
     "end_time": "2021-04-08T16:23:01.934563Z",
     "start_time": "2021-04-08T16:23:01.930573Z"
    }
   },
   "source": [
    "#### Part 1：data preprocessing"
   ]
  },
  {
   "cell_type": "markdown",
   "id": "d7e6acba",
   "metadata": {},
   "source": [
    "##### import dataset"
   ]
  },
  {
   "cell_type": "code",
   "execution_count": 3,
   "id": "4927005c",
   "metadata": {
    "ExecuteTime": {
     "end_time": "2021-04-09T03:30:09.590593Z",
     "start_time": "2021-04-09T03:30:09.546881Z"
    }
   },
   "outputs": [
    {
     "data": {
      "text/html": [
       "<div>\n",
       "<style scoped>\n",
       "    .dataframe tbody tr th:only-of-type {\n",
       "        vertical-align: middle;\n",
       "    }\n",
       "\n",
       "    .dataframe tbody tr th {\n",
       "        vertical-align: top;\n",
       "    }\n",
       "\n",
       "    .dataframe thead th {\n",
       "        text-align: right;\n",
       "    }\n",
       "</style>\n",
       "<table border=\"1\" class=\"dataframe\">\n",
       "  <thead>\n",
       "    <tr style=\"text-align: right;\">\n",
       "      <th></th>\n",
       "      <th>RowNumber</th>\n",
       "      <th>CustomerId</th>\n",
       "      <th>Surname</th>\n",
       "      <th>CreditScore</th>\n",
       "      <th>Geography</th>\n",
       "      <th>Gender</th>\n",
       "      <th>Age</th>\n",
       "      <th>Tenure</th>\n",
       "      <th>Balance</th>\n",
       "      <th>NumOfProducts</th>\n",
       "      <th>HasCrCard</th>\n",
       "      <th>IsActiveMember</th>\n",
       "      <th>EstimatedSalary</th>\n",
       "      <th>Exited</th>\n",
       "    </tr>\n",
       "  </thead>\n",
       "  <tbody>\n",
       "    <tr>\n",
       "      <th>0</th>\n",
       "      <td>1</td>\n",
       "      <td>15634602</td>\n",
       "      <td>Hargrave</td>\n",
       "      <td>619</td>\n",
       "      <td>France</td>\n",
       "      <td>Female</td>\n",
       "      <td>42</td>\n",
       "      <td>2</td>\n",
       "      <td>0.00</td>\n",
       "      <td>1</td>\n",
       "      <td>1</td>\n",
       "      <td>1</td>\n",
       "      <td>101348.88</td>\n",
       "      <td>1</td>\n",
       "    </tr>\n",
       "    <tr>\n",
       "      <th>1</th>\n",
       "      <td>2</td>\n",
       "      <td>15647311</td>\n",
       "      <td>Hill</td>\n",
       "      <td>608</td>\n",
       "      <td>Spain</td>\n",
       "      <td>Female</td>\n",
       "      <td>41</td>\n",
       "      <td>1</td>\n",
       "      <td>83807.86</td>\n",
       "      <td>1</td>\n",
       "      <td>0</td>\n",
       "      <td>1</td>\n",
       "      <td>112542.58</td>\n",
       "      <td>0</td>\n",
       "    </tr>\n",
       "    <tr>\n",
       "      <th>2</th>\n",
       "      <td>3</td>\n",
       "      <td>15619304</td>\n",
       "      <td>Onio</td>\n",
       "      <td>502</td>\n",
       "      <td>France</td>\n",
       "      <td>Female</td>\n",
       "      <td>42</td>\n",
       "      <td>8</td>\n",
       "      <td>159660.80</td>\n",
       "      <td>3</td>\n",
       "      <td>1</td>\n",
       "      <td>0</td>\n",
       "      <td>113931.57</td>\n",
       "      <td>1</td>\n",
       "    </tr>\n",
       "    <tr>\n",
       "      <th>3</th>\n",
       "      <td>4</td>\n",
       "      <td>15701354</td>\n",
       "      <td>Boni</td>\n",
       "      <td>699</td>\n",
       "      <td>France</td>\n",
       "      <td>Female</td>\n",
       "      <td>39</td>\n",
       "      <td>1</td>\n",
       "      <td>0.00</td>\n",
       "      <td>2</td>\n",
       "      <td>0</td>\n",
       "      <td>0</td>\n",
       "      <td>93826.63</td>\n",
       "      <td>0</td>\n",
       "    </tr>\n",
       "    <tr>\n",
       "      <th>4</th>\n",
       "      <td>5</td>\n",
       "      <td>15737888</td>\n",
       "      <td>Mitchell</td>\n",
       "      <td>850</td>\n",
       "      <td>Spain</td>\n",
       "      <td>Female</td>\n",
       "      <td>43</td>\n",
       "      <td>2</td>\n",
       "      <td>125510.82</td>\n",
       "      <td>1</td>\n",
       "      <td>1</td>\n",
       "      <td>1</td>\n",
       "      <td>79084.10</td>\n",
       "      <td>0</td>\n",
       "    </tr>\n",
       "  </tbody>\n",
       "</table>\n",
       "</div>"
      ],
      "text/plain": [
       "   RowNumber  CustomerId   Surname  CreditScore Geography  Gender  Age  \\\n",
       "0          1    15634602  Hargrave          619    France  Female   42   \n",
       "1          2    15647311      Hill          608     Spain  Female   41   \n",
       "2          3    15619304      Onio          502    France  Female   42   \n",
       "3          4    15701354      Boni          699    France  Female   39   \n",
       "4          5    15737888  Mitchell          850     Spain  Female   43   \n",
       "\n",
       "   Tenure    Balance  NumOfProducts  HasCrCard  IsActiveMember  \\\n",
       "0       2       0.00              1          1               1   \n",
       "1       1   83807.86              1          0               1   \n",
       "2       8  159660.80              3          1               0   \n",
       "3       1       0.00              2          0               0   \n",
       "4       2  125510.82              1          1               1   \n",
       "\n",
       "   EstimatedSalary  Exited  \n",
       "0        101348.88       1  \n",
       "1        112542.58       0  \n",
       "2        113931.57       1  \n",
       "3         93826.63       0  \n",
       "4         79084.10       0  "
      ]
     },
     "execution_count": 3,
     "metadata": {},
     "output_type": "execute_result"
    }
   ],
   "source": [
    "dataset = pd.read_csv(r'Churn_Modelling.csv')\n",
    "# quick look at the data\n",
    "dataset.head()\n",
    "# from the data, found that 'RowNumber', 'CustomerId' and 'Surname' are just identifier, do not have impact on whether they leave the bank"
   ]
  },
  {
   "cell_type": "code",
   "execution_count": 4,
   "id": "06a9d40a",
   "metadata": {
    "ExecuteTime": {
     "end_time": "2021-04-09T03:30:10.415237Z",
     "start_time": "2021-04-09T03:30:10.403303Z"
    }
   },
   "outputs": [],
   "source": [
    "# extract X and Y from dataset\n",
    "X = dataset.iloc[:,3:-1].values # from fourth column to the second last column, return an array/matrix\n",
    "y = dataset.iloc[:,-1].values # last column"
   ]
  },
  {
   "cell_type": "markdown",
   "id": "fceda103",
   "metadata": {
    "ExecuteTime": {
     "end_time": "2021-04-08T16:31:12.329603Z",
     "start_time": "2021-04-08T16:31:12.324617Z"
    }
   },
   "source": [
    "##### encoding categorical data"
   ]
  },
  {
   "cell_type": "code",
   "execution_count": 5,
   "id": "1c5d143d",
   "metadata": {
    "ExecuteTime": {
     "end_time": "2021-04-09T03:30:11.928976Z",
     "start_time": "2021-04-09T03:30:11.382532Z"
    }
   },
   "outputs": [],
   "source": [
    "# categorical columns：\"Geography\" and \"Gender\"\n",
    "# label encoding \"Gender\"\n",
    "from sklearn.preprocessing import LabelEncoder\n",
    "le = LabelEncoder()\n",
    "X[:,2] = le.fit_transform(X[:,2]) # male is 1 female is 0"
   ]
  },
  {
   "cell_type": "code",
   "execution_count": 6,
   "id": "e3368589",
   "metadata": {
    "ExecuteTime": {
     "end_time": "2021-04-09T03:30:11.945934Z",
     "start_time": "2021-04-09T03:30:11.929974Z"
    }
   },
   "outputs": [],
   "source": [
    "# on-hot encoding \"Geography\"\n",
    "from sklearn.compose import ColumnTransformer\n",
    "from sklearn.preprocessing import OneHotEncoder\n",
    "ct = ColumnTransformer(transformers = [('encoder',OneHotEncoder(),[1])],remainder = 'passthrough')\n",
    "X = np.array(ct.fit_transform(X))"
   ]
  },
  {
   "cell_type": "markdown",
   "id": "fd278cab",
   "metadata": {
    "ExecuteTime": {
     "end_time": "2021-04-08T16:43:32.741146Z",
     "start_time": "2021-04-08T16:43:32.736195Z"
    }
   },
   "source": [
    "##### split the dataset into training set and test set"
   ]
  },
  {
   "cell_type": "code",
   "execution_count": 7,
   "id": "332c99df",
   "metadata": {
    "ExecuteTime": {
     "end_time": "2021-04-09T03:30:12.684268Z",
     "start_time": "2021-04-09T03:30:12.632838Z"
    }
   },
   "outputs": [],
   "source": [
    "from sklearn.model_selection import train_test_split\n",
    "X_train, X_test, y_train, y_test = train_test_split(X, y, test_size = 0.2, random_state = 0)"
   ]
  },
  {
   "cell_type": "markdown",
   "id": "0ec92ca2",
   "metadata": {
    "ExecuteTime": {
     "end_time": "2021-04-08T16:47:51.778264Z",
     "start_time": "2021-04-08T16:47:51.773277Z"
    }
   },
   "source": [
    "##### feature scaling"
   ]
  },
  {
   "cell_type": "code",
   "execution_count": 8,
   "id": "7a7477df",
   "metadata": {
    "ExecuteTime": {
     "end_time": "2021-04-09T03:30:13.466581Z",
     "start_time": "2021-04-09T03:30:13.449496Z"
    }
   },
   "outputs": [],
   "source": [
    "from sklearn.preprocessing import StandardScaler\n",
    "sc = StandardScaler()\n",
    "X_train = sc.fit_transform(X_train)\n",
    "X_test = sc.transform(X_test)\n",
    "# fit_transform and transform?"
   ]
  },
  {
   "cell_type": "markdown",
   "id": "43aca355",
   "metadata": {},
   "source": [
    "#### Part 2: building the ANN"
   ]
  },
  {
   "cell_type": "markdown",
   "id": "7bfc91f5",
   "metadata": {},
   "source": [
    "##### initializing the ANN (as a sequence of layers)"
   ]
  },
  {
   "cell_type": "code",
   "execution_count": 9,
   "id": "7d1a2b58",
   "metadata": {
    "ExecuteTime": {
     "end_time": "2021-04-09T03:38:21.329838Z",
     "start_time": "2021-04-09T03:38:20.288958Z"
    }
   },
   "outputs": [],
   "source": [
    "# create an object of certain class\n",
    "ann = tf.keras.models.Sequential()"
   ]
  },
  {
   "cell_type": "markdown",
   "id": "1e0fdb6f",
   "metadata": {},
   "source": [
    "##### adding the input layer and the first hidden layer"
   ]
  },
  {
   "cell_type": "code",
   "execution_count": 10,
   "id": "1dda08d6",
   "metadata": {
    "ExecuteTime": {
     "end_time": "2021-04-09T03:50:31.505997Z",
     "start_time": "2021-04-09T03:50:31.499049Z"
    }
   },
   "outputs": [],
   "source": [
    "ann.add(tf.keras.layers.Dense(units = 6, activation = 'relu'))\n",
    "# what is Dense class?\n",
    "# how do we know how many neurons we want?\n",
    "# activation function categories:"
   ]
  },
  {
   "cell_type": "markdown",
   "id": "ccfc513b",
   "metadata": {},
   "source": [
    "##### adding the second hidden layer"
   ]
  },
  {
   "cell_type": "code",
   "execution_count": 11,
   "id": "0b2fd1cf",
   "metadata": {
    "ExecuteTime": {
     "end_time": "2021-04-09T03:50:32.623971Z",
     "start_time": "2021-04-09T03:50:32.620966Z"
    }
   },
   "outputs": [],
   "source": [
    "ann.add(tf.keras.layers.Dense(units = 6, activation = 'relu'))"
   ]
  },
  {
   "cell_type": "markdown",
   "id": "1bd8f2a8",
   "metadata": {},
   "source": [
    "##### adding the output layer"
   ]
  },
  {
   "cell_type": "code",
   "execution_count": 12,
   "id": "fd3fd653",
   "metadata": {
    "ExecuteTime": {
     "end_time": "2021-04-09T03:50:33.748926Z",
     "start_time": "2021-04-09T03:50:33.744579Z"
    }
   },
   "outputs": [],
   "source": [
    "ann.add(tf.keras.layers.Dense(units = 1, activation = 'sigmoid'))\n",
    "# output layers contains dimensions of output\n",
    "# in our case, binary outcome, so one neuron, so unit = 1\n",
    "# sigmoid activation function can map result to 0-1"
   ]
  },
  {
   "cell_type": "markdown",
   "id": "3e2c8a98",
   "metadata": {},
   "source": [
    "#### Part 3: training the ANN"
   ]
  },
  {
   "cell_type": "markdown",
   "id": "12a2464b",
   "metadata": {},
   "source": [
    "##### compiling the ANN"
   ]
  },
  {
   "cell_type": "code",
   "execution_count": 13,
   "id": "dc98e544",
   "metadata": {
    "ExecuteTime": {
     "end_time": "2021-04-09T03:59:04.672039Z",
     "start_time": "2021-04-09T03:59:04.654644Z"
    }
   },
   "outputs": [],
   "source": [
    "# compile the ANN with optimizer, lost function and metric(accuracy)\n",
    "ann.compile(optimizer = 'adam', loss = 'binary_crossentropy', metrics = ['accuracy'])\n",
    "# what is compile?\n",
    "# optimizer?\n",
    "# loss function:"
   ]
  },
  {
   "cell_type": "markdown",
   "id": "f2d156ae",
   "metadata": {},
   "source": [
    "##### trainig the ANN on the training set"
   ]
  },
  {
   "cell_type": "code",
   "execution_count": 14,
   "id": "c5cfea11",
   "metadata": {
    "ExecuteTime": {
     "end_time": "2021-04-09T04:03:00.170645Z",
     "start_time": "2021-04-09T04:02:43.327997Z"
    }
   },
   "outputs": [
    {
     "name": "stdout",
     "output_type": "stream",
     "text": [
      "Epoch 1/100\n",
      "250/250 [==============================] - 1s 578us/step - loss: 0.7011 - accuracy: 0.6083\n",
      "Epoch 2/100\n",
      "250/250 [==============================] - 0s 582us/step - loss: 0.5001 - accuracy: 0.7999\n",
      "Epoch 3/100\n",
      "250/250 [==============================] - 0s 917us/step - loss: 0.4639 - accuracy: 0.8035\n",
      "Epoch 4/100\n",
      "250/250 [==============================] - 0s 536us/step - loss: 0.4300 - accuracy: 0.8182\n",
      "Epoch 5/100\n",
      "250/250 [==============================] - 0s 565us/step - loss: 0.4242 - accuracy: 0.8139\n",
      "Epoch 6/100\n",
      "250/250 [==============================] - 0s 547us/step - loss: 0.4276 - accuracy: 0.8141\n",
      "Epoch 7/100\n",
      "250/250 [==============================] - 0s 561us/step - loss: 0.4174 - accuracy: 0.8219\n",
      "Epoch 8/100\n",
      "250/250 [==============================] - 0s 679us/step - loss: 0.3989 - accuracy: 0.8286\n",
      "Epoch 9/100\n",
      "250/250 [==============================] - 0s 846us/step - loss: 0.4023 - accuracy: 0.8235\n",
      "Epoch 10/100\n",
      "250/250 [==============================] - 0s 746us/step - loss: 0.4032 - accuracy: 0.8184\n",
      "Epoch 11/100\n",
      "250/250 [==============================] - 0s 640us/step - loss: 0.3927 - accuracy: 0.8291\n",
      "Epoch 12/100\n",
      "250/250 [==============================] - 0s 624us/step - loss: 0.3785 - accuracy: 0.8337\n",
      "Epoch 13/100\n",
      "250/250 [==============================] - 0s 623us/step - loss: 0.3846 - accuracy: 0.8335\n",
      "Epoch 14/100\n",
      "250/250 [==============================] - 0s 633us/step - loss: 0.3805 - accuracy: 0.8381\n",
      "Epoch 15/100\n",
      "250/250 [==============================] - 0s 820us/step - loss: 0.3819 - accuracy: 0.8348\n",
      "Epoch 16/100\n",
      "250/250 [==============================] - 0s 636us/step - loss: 0.3740 - accuracy: 0.8417\n",
      "Epoch 17/100\n",
      "250/250 [==============================] - 0s 553us/step - loss: 0.3762 - accuracy: 0.8386\n",
      "Epoch 18/100\n",
      "250/250 [==============================] - 0s 601us/step - loss: 0.3694 - accuracy: 0.8390\n",
      "Epoch 19/100\n",
      "250/250 [==============================] - 0s 594us/step - loss: 0.3675 - accuracy: 0.8476\n",
      "Epoch 20/100\n",
      "250/250 [==============================] - 0s 635us/step - loss: 0.3592 - accuracy: 0.8534\n",
      "Epoch 21/100\n",
      "250/250 [==============================] - 0s 621us/step - loss: 0.3664 - accuracy: 0.8510\n",
      "Epoch 22/100\n",
      "250/250 [==============================] - 0s 633us/step - loss: 0.3587 - accuracy: 0.8487\n",
      "Epoch 23/100\n",
      "250/250 [==============================] - 0s 696us/step - loss: 0.3487 - accuracy: 0.8573\n",
      "Epoch 24/100\n",
      "250/250 [==============================] - 0s 673us/step - loss: 0.3433 - accuracy: 0.8607\n",
      "Epoch 25/100\n",
      "250/250 [==============================] - 0s 620us/step - loss: 0.3475 - accuracy: 0.8563\n",
      "Epoch 26/100\n",
      "250/250 [==============================] - 0s 640us/step - loss: 0.3442 - accuracy: 0.8634\n",
      "Epoch 27/100\n",
      "250/250 [==============================] - 0s 591us/step - loss: 0.3319 - accuracy: 0.8671\n",
      "Epoch 28/100\n",
      "250/250 [==============================] - 0s 627us/step - loss: 0.3354 - accuracy: 0.8592\n",
      "Epoch 29/100\n",
      "250/250 [==============================] - 0s 711us/step - loss: 0.3382 - accuracy: 0.8556\n",
      "Epoch 30/100\n",
      "250/250 [==============================] - 0s 674us/step - loss: 0.3440 - accuracy: 0.8601\n",
      "Epoch 31/100\n",
      "250/250 [==============================] - 0s 680us/step - loss: 0.3284 - accuracy: 0.8638\n",
      "Epoch 32/100\n",
      "250/250 [==============================] - 0s 633us/step - loss: 0.3411 - accuracy: 0.8623\n",
      "Epoch 33/100\n",
      "250/250 [==============================] - 0s 651us/step - loss: 0.3376 - accuracy: 0.8640\n",
      "Epoch 34/100\n",
      "250/250 [==============================] - 0s 681us/step - loss: 0.3311 - accuracy: 0.8624\n",
      "Epoch 35/100\n",
      "250/250 [==============================] - 0s 691us/step - loss: 0.3458 - accuracy: 0.8596\n",
      "Epoch 36/100\n",
      "250/250 [==============================] - 0s 691us/step - loss: 0.3504 - accuracy: 0.8586\n",
      "Epoch 37/100\n",
      "250/250 [==============================] - 0s 953us/step - loss: 0.3401 - accuracy: 0.8623\n",
      "Epoch 38/100\n",
      "250/250 [==============================] - 0s 632us/step - loss: 0.3283 - accuracy: 0.8695\n",
      "Epoch 39/100\n",
      "250/250 [==============================] - 0s 532us/step - loss: 0.3449 - accuracy: 0.8577\n",
      "Epoch 40/100\n",
      "250/250 [==============================] - 0s 539us/step - loss: 0.3333 - accuracy: 0.8665\n",
      "Epoch 41/100\n",
      "250/250 [==============================] - 0s 567us/step - loss: 0.3378 - accuracy: 0.86520s - loss: 0.3375 - accuracy: 0.86\n",
      "Epoch 42/100\n",
      "250/250 [==============================] - 0s 543us/step - loss: 0.3449 - accuracy: 0.8618\n",
      "Epoch 43/100\n",
      "250/250 [==============================] - 0s 545us/step - loss: 0.3388 - accuracy: 0.8610\n",
      "Epoch 44/100\n",
      "250/250 [==============================] - 0s 509us/step - loss: 0.3346 - accuracy: 0.8635\n",
      "Epoch 45/100\n",
      "250/250 [==============================] - 0s 572us/step - loss: 0.3367 - accuracy: 0.8606\n",
      "Epoch 46/100\n",
      "250/250 [==============================] - 0s 516us/step - loss: 0.3457 - accuracy: 0.8586\n",
      "Epoch 47/100\n",
      "250/250 [==============================] - 0s 539us/step - loss: 0.3340 - accuracy: 0.8632\n",
      "Epoch 48/100\n",
      "250/250 [==============================] - 0s 683us/step - loss: 0.3315 - accuracy: 0.8623\n",
      "Epoch 49/100\n",
      "250/250 [==============================] - 0s 651us/step - loss: 0.3351 - accuracy: 0.8652\n",
      "Epoch 50/100\n",
      "250/250 [==============================] - 0s 541us/step - loss: 0.3279 - accuracy: 0.8633\n",
      "Epoch 51/100\n",
      "250/250 [==============================] - 0s 599us/step - loss: 0.3276 - accuracy: 0.8646\n",
      "Epoch 52/100\n",
      "250/250 [==============================] - 0s 703us/step - loss: 0.3337 - accuracy: 0.8643\n",
      "Epoch 53/100\n",
      "250/250 [==============================] - 0s 595us/step - loss: 0.3487 - accuracy: 0.8560\n",
      "Epoch 54/100\n",
      "250/250 [==============================] - 0s 591us/step - loss: 0.3441 - accuracy: 0.8568\n",
      "Epoch 55/100\n",
      "250/250 [==============================] - 0s 629us/step - loss: 0.3351 - accuracy: 0.8642\n",
      "Epoch 56/100\n",
      "250/250 [==============================] - 0s 597us/step - loss: 0.3508 - accuracy: 0.8555\n",
      "Epoch 57/100\n",
      "250/250 [==============================] - 0s 640us/step - loss: 0.3385 - accuracy: 0.8630\n",
      "Epoch 58/100\n",
      "250/250 [==============================] - 0s 671us/step - loss: 0.3335 - accuracy: 0.8667\n",
      "Epoch 59/100\n",
      "250/250 [==============================] - 0s 690us/step - loss: 0.3300 - accuracy: 0.8643\n",
      "Epoch 60/100\n",
      "250/250 [==============================] - 0s 710us/step - loss: 0.3273 - accuracy: 0.8679\n",
      "Epoch 61/100\n",
      "250/250 [==============================] - 0s 668us/step - loss: 0.3407 - accuracy: 0.8608\n",
      "Epoch 62/100\n",
      "250/250 [==============================] - 0s 677us/step - loss: 0.3330 - accuracy: 0.8661\n",
      "Epoch 63/100\n",
      "250/250 [==============================] - 0s 667us/step - loss: 0.3469 - accuracy: 0.8540\n",
      "Epoch 64/100\n",
      "250/250 [==============================] - 0s 678us/step - loss: 0.3249 - accuracy: 0.8689\n",
      "Epoch 65/100\n",
      "250/250 [==============================] - 0s 764us/step - loss: 0.3362 - accuracy: 0.8605\n",
      "Epoch 66/100\n",
      "250/250 [==============================] - 0s 674us/step - loss: 0.3308 - accuracy: 0.8653\n",
      "Epoch 67/100\n",
      "250/250 [==============================] - 0s 646us/step - loss: 0.3173 - accuracy: 0.8690\n",
      "Epoch 68/100\n",
      "250/250 [==============================] - 0s 608us/step - loss: 0.3255 - accuracy: 0.8669\n",
      "Epoch 69/100\n",
      "250/250 [==============================] - 0s 622us/step - loss: 0.3417 - accuracy: 0.8611\n",
      "Epoch 70/100\n",
      "250/250 [==============================] - 0s 657us/step - loss: 0.3206 - accuracy: 0.8707\n",
      "Epoch 71/100\n",
      "250/250 [==============================] - 0s 672us/step - loss: 0.3273 - accuracy: 0.8682\n",
      "Epoch 72/100\n",
      "250/250 [==============================] - 0s 674us/step - loss: 0.3448 - accuracy: 0.8590\n",
      "Epoch 73/100\n",
      "250/250 [==============================] - 0s 600us/step - loss: 0.3410 - accuracy: 0.8628\n",
      "Epoch 74/100\n",
      "250/250 [==============================] - 0s 564us/step - loss: 0.3320 - accuracy: 0.8606\n",
      "Epoch 75/100\n",
      "250/250 [==============================] - 0s 655us/step - loss: 0.3291 - accuracy: 0.8655\n",
      "Epoch 76/100\n",
      "250/250 [==============================] - 0s 688us/step - loss: 0.3282 - accuracy: 0.8680\n",
      "Epoch 77/100\n",
      "250/250 [==============================] - 0s 601us/step - loss: 0.3217 - accuracy: 0.8717\n",
      "Epoch 78/100\n",
      "250/250 [==============================] - 0s 701us/step - loss: 0.3189 - accuracy: 0.8737\n",
      "Epoch 79/100\n"
     ]
    },
    {
     "name": "stdout",
     "output_type": "stream",
     "text": [
      "250/250 [==============================] - 0s 763us/step - loss: 0.3312 - accuracy: 0.8621\n",
      "Epoch 80/100\n",
      "250/250 [==============================] - 0s 784us/step - loss: 0.3265 - accuracy: 0.8693\n",
      "Epoch 81/100\n",
      "250/250 [==============================] - 0s 581us/step - loss: 0.3344 - accuracy: 0.8630\n",
      "Epoch 82/100\n",
      "250/250 [==============================] - 0s 619us/step - loss: 0.3341 - accuracy: 0.8652\n",
      "Epoch 83/100\n",
      "250/250 [==============================] - 0s 660us/step - loss: 0.3337 - accuracy: 0.8625\n",
      "Epoch 84/100\n",
      "250/250 [==============================] - 0s 629us/step - loss: 0.3359 - accuracy: 0.8647\n",
      "Epoch 85/100\n",
      "250/250 [==============================] - 0s 619us/step - loss: 0.3341 - accuracy: 0.8623\n",
      "Epoch 86/100\n",
      "250/250 [==============================] - 0s 599us/step - loss: 0.3171 - accuracy: 0.8740\n",
      "Epoch 87/100\n",
      "250/250 [==============================] - 0s 601us/step - loss: 0.3364 - accuracy: 0.8621\n",
      "Epoch 88/100\n",
      "250/250 [==============================] - 0s 641us/step - loss: 0.3228 - accuracy: 0.8680\n",
      "Epoch 89/100\n",
      "250/250 [==============================] - 0s 626us/step - loss: 0.3360 - accuracy: 0.8608\n",
      "Epoch 90/100\n",
      "250/250 [==============================] - 0s 625us/step - loss: 0.3407 - accuracy: 0.8624\n",
      "Epoch 91/100\n",
      "250/250 [==============================] - 0s 631us/step - loss: 0.3196 - accuracy: 0.8698\n",
      "Epoch 92/100\n",
      "250/250 [==============================] - 0s 698us/step - loss: 0.3357 - accuracy: 0.8613\n",
      "Epoch 93/100\n",
      "250/250 [==============================] - 0s 732us/step - loss: 0.3311 - accuracy: 0.8650\n",
      "Epoch 94/100\n",
      "250/250 [==============================] - 0s 636us/step - loss: 0.3294 - accuracy: 0.8662\n",
      "Epoch 95/100\n",
      "250/250 [==============================] - 0s 630us/step - loss: 0.3411 - accuracy: 0.8595\n",
      "Epoch 96/100\n",
      "250/250 [==============================] - 0s 654us/step - loss: 0.3412 - accuracy: 0.8629\n",
      "Epoch 97/100\n",
      "250/250 [==============================] - 0s 617us/step - loss: 0.3330 - accuracy: 0.8613\n",
      "Epoch 98/100\n",
      "250/250 [==============================] - 0s 659us/step - loss: 0.3284 - accuracy: 0.8661\n",
      "Epoch 99/100\n",
      "250/250 [==============================] - 0s 725us/step - loss: 0.3192 - accuracy: 0.8681\n",
      "Epoch 100/100\n",
      "250/250 [==============================] - 0s 750us/step - loss: 0.3228 - accuracy: 0.8695\n"
     ]
    },
    {
     "data": {
      "text/plain": [
       "<tensorflow.python.keras.callbacks.History at 0x13c05d56700>"
      ]
     },
     "execution_count": 14,
     "metadata": {},
     "output_type": "execute_result"
    }
   ],
   "source": [
    "ann.fit(X_train, y_train, batch_size = 32, epochs = 100)\n",
    "# batch_size?"
   ]
  },
  {
   "cell_type": "markdown",
   "id": "ca6743e1",
   "metadata": {},
   "source": [
    "#### Part 4: making the predictions and evaluating the model"
   ]
  },
  {
   "cell_type": "markdown",
   "id": "03da7934",
   "metadata": {},
   "source": [
    "##### predicting the test set results"
   ]
  },
  {
   "cell_type": "code",
   "execution_count": 17,
   "id": "bf80826a",
   "metadata": {
    "ExecuteTime": {
     "end_time": "2021-04-09T04:22:06.587050Z",
     "start_time": "2021-04-09T04:22:06.515120Z"
    }
   },
   "outputs": [
    {
     "name": "stdout",
     "output_type": "stream",
     "text": [
      "[[0 0]\n",
      " [0 1]\n",
      " [0 0]\n",
      " ...\n",
      " [0 0]\n",
      " [0 0]\n",
      " [0 0]]\n"
     ]
    }
   ],
   "source": [
    "y_pred = ann.predict(X_test)\n",
    "y_pred = (y_pred>0.5) \n",
    "print(np.concatenate((y_pred.reshape(len(y_pred),1), y_test.reshape(len(y_test),1)),1))"
   ]
  },
  {
   "cell_type": "markdown",
   "id": "91262c6e",
   "metadata": {},
   "source": [
    "##### making the confusion matrix"
   ]
  },
  {
   "cell_type": "code",
   "execution_count": 18,
   "id": "3baf1548",
   "metadata": {
    "ExecuteTime": {
     "end_time": "2021-04-09T04:24:42.361701Z",
     "start_time": "2021-04-09T04:24:42.348975Z"
    }
   },
   "outputs": [
    {
     "name": "stdout",
     "output_type": "stream",
     "text": [
      "[[1532   63]\n",
      " [ 214  191]]\n"
     ]
    },
    {
     "data": {
      "text/plain": [
       "0.8615"
      ]
     },
     "execution_count": 18,
     "metadata": {},
     "output_type": "execute_result"
    }
   ],
   "source": [
    "from sklearn.metrics import confusion_matrix, accuracy_score\n",
    "cm = confusion_matrix(y_test, y_pred)\n",
    "print(cm)\n",
    "accuracy_score(y_test, y_pred)"
   ]
  },
  {
   "cell_type": "markdown",
   "id": "8704e3fa",
   "metadata": {},
   "source": [
    "#### predicting the result of a single observation"
   ]
  },
  {
   "cell_type": "code",
   "execution_count": 16,
   "id": "7c078009",
   "metadata": {
    "ExecuteTime": {
     "end_time": "2021-04-09T04:17:14.527143Z",
     "start_time": "2021-04-09T04:17:14.455980Z"
    }
   },
   "outputs": [
    {
     "name": "stdout",
     "output_type": "stream",
     "text": [
      "[[0.04388708]]\n",
      "[[False]]\n"
     ]
    }
   ],
   "source": [
    "# France, 600, male, 40, 3, 60000, 2, yes, yes, 50000\n",
    "print(ann.predict(sc.transform([[1,0,0,600,1,40,3,60000,2,1,1,50000]])))\n",
    "# the probability of this customer leaving the bank is 4.38%\n",
    "print(ann.predict(sc.transform([[1,0,0,600,1,40,3,60000,2,1,1,50000]]))>0.5)"
   ]
  },
  {
   "cell_type": "code",
   "execution_count": null,
   "id": "13090069",
   "metadata": {},
   "outputs": [],
   "source": []
  }
 ],
 "metadata": {
  "kernelspec": {
   "display_name": "python(tf2)",
   "language": "python",
   "name": "tf2"
  },
  "language_info": {
   "codemirror_mode": {
    "name": "ipython",
    "version": 3
   },
   "file_extension": ".py",
   "mimetype": "text/x-python",
   "name": "python",
   "nbconvert_exporter": "python",
   "pygments_lexer": "ipython3",
   "version": "3.8.8"
  },
  "toc": {
   "base_numbering": 1,
   "nav_menu": {},
   "number_sections": true,
   "sideBar": true,
   "skip_h1_title": false,
   "title_cell": "Table of Contents",
   "title_sidebar": "Contents",
   "toc_cell": false,
   "toc_position": {},
   "toc_section_display": true,
   "toc_window_display": true
  }
 },
 "nbformat": 4,
 "nbformat_minor": 5
}
